{
 "cells": [
  {
   "cell_type": "code",
   "execution_count": 2,
   "metadata": {},
   "outputs": [],
   "source": [
    "import os, random\n",
    "from keras import layers,models,optimizers\n",
    "from keras.preprocessing.image import ImageDataGenerator\n",
    "import matplotlib.pyplot as plt"
   ]
  },
  {
   "cell_type": "markdown",
   "metadata": {},
   "source": [
    "<div class=\"alert alert-block alert-info\">\n",
    "    \n",
    "\n",
    "# Data Sources\n",
    "    \n",
    "</div>"
   ]
  },
  {
   "cell_type": "markdown",
   "metadata": {},
   "source": [
    "<div class=\"alert alert-block alert-success\">\n",
    "\n",
    "## Two datasources were used on this project\n",
    "- <a href=\"https://www.kaggle.com/luisblanche/covidct\">Kaggle COVID-19 Lung CT Scans</a> <br>\n",
    "- <a href=\"https://data.mendeley.com/datasets/2fxz4px6d8/4\">Augmented COVID-19 X-ray Images Dataset (Dataset All Augmented</a><br>\n",
    "\n",
    "</div>"
   ]
  },
  {
   "cell_type": "markdown",
   "metadata": {},
   "source": [
    "### </font> <font color='#3a7f8f'>Enviroment Preparation</font> \n",
    "\n",
    "<div class=\"alert alert-danger\">Before run the next cells it's necessary to download and extract all the datasets on given folder <br/>\n",
    "After that change the path bellow to the path of the folder where you extracted the datasets</div>"
   ]
  },
  {
   "cell_type": "code",
   "execution_count": 3,
   "metadata": {},
   "outputs": [],
   "source": [
    "base_dir = \"C:\\\\Users\\\\z0045zxy\\\\source\\\\novaims\\\\covid\""
   ]
  },
  {
   "cell_type": "code",
   "execution_count": 4,
   "metadata": {},
   "outputs": [],
   "source": [
    "def create_dir(dir):\n",
    "    if not os.path.exists(dir):\n",
    "        os.makedirs(dir)"
   ]
  },
  {
   "cell_type": "code",
   "execution_count": 5,
   "metadata": {},
   "outputs": [],
   "source": [
    "covid_original_path = os.path.join(base_dir, 'CT_COVID')\n",
    "no_covid_original_path = os.path.join(base_dir, 'CT_NonCOVID')\n",
    "\n",
    "len_covid = int(len(os.listdir(covid_original_path)) * 70 / 100)\n",
    "len_no_covid = int(len(os.listdir(no_covid_original_path)) * 70 / 100)"
   ]
  },
  {
   "cell_type": "code",
   "execution_count": 6,
   "metadata": {},
   "outputs": [],
   "source": [
    "train_path =  os.path.join(base_dir, 'train')\n",
    "create_dir(train_path)\n",
    "validation_path = os.path.join(base_dir, 'validation')\n",
    "create_dir(validation_path)"
   ]
  },
  {
   "cell_type": "code",
   "execution_count": 7,
   "metadata": {},
   "outputs": [],
   "source": [
    "covid_train_path =  os.path.join(train_path, 'COVID')\n",
    "create_dir(covid_train_path)\n",
    "no_covid_train_path = os.path.join(train_path, 'NOCOVID')\n",
    "create_dir(no_covid_train_path)"
   ]
  },
  {
   "cell_type": "code",
   "execution_count": 8,
   "metadata": {},
   "outputs": [],
   "source": [
    "covid_val_path =  os.path.join(validation_path, 'COVID')\n",
    "create_dir(covid_val_path)\n",
    "no_covid_val_path = os.path.join(validation_path, 'NOCOVID')\n",
    "create_dir(no_covid_val_path)"
   ]
  },
  {
   "cell_type": "code",
   "execution_count": 9,
   "metadata": {},
   "outputs": [],
   "source": [
    "covid_list = os.listdir(covid_original_path)\n",
    "no_covid_list = os.listdir(no_covid_original_path)"
   ]
  },
  {
   "cell_type": "code",
   "execution_count": 10,
   "metadata": {},
   "outputs": [],
   "source": [
    "train_covid_list = random.sample(covid_list,len_covid)\n",
    "train_no_covid_list = random.sample(no_covid_list,len_no_covid)"
   ]
  },
  {
   "cell_type": "code",
   "execution_count": 11,
   "metadata": {},
   "outputs": [],
   "source": [
    "for file_name in train_covid_list:\n",
    "    source = os.path.join(covid_original_path,file_name)\n",
    "    target = os.path.join(covid_train_path,file_name)\n",
    "    os.rename(source,target)"
   ]
  },
  {
   "cell_type": "code",
   "execution_count": 12,
   "metadata": {},
   "outputs": [],
   "source": [
    "for file_name in train_no_covid_list:\n",
    "    source = os.path.join(no_covid_original_path,file_name)\n",
    "    target = os.path.join(no_covid_train_path,file_name)\n",
    "    os.rename(source,target)"
   ]
  },
  {
   "cell_type": "code",
   "execution_count": 13,
   "metadata": {},
   "outputs": [],
   "source": [
    "covid_list = os.listdir(covid_original_path)\n",
    "no_covid_list = os.listdir(no_covid_original_path)"
   ]
  },
  {
   "cell_type": "code",
   "execution_count": 14,
   "metadata": {},
   "outputs": [],
   "source": [
    "for file_name in covid_list:\n",
    "    source = os.path.join(covid_original_path,file_name)\n",
    "    target = os.path.join(covid_val_path,file_name)\n",
    "    os.rename(source,target)"
   ]
  },
  {
   "cell_type": "code",
   "execution_count": 15,
   "metadata": {},
   "outputs": [],
   "source": [
    "for file_name in no_covid_list:\n",
    "    source = os.path.join(no_covid_original_path,file_name)\n",
    "    target = os.path.join(no_covid_val_path,file_name)\n",
    "    os.rename(source,target)"
   ]
  },
  {
   "cell_type": "code",
   "execution_count": 16,
   "metadata": {},
   "outputs": [],
   "source": [
    "model = models.Sequential()\n",
    "model.add(layers.Conv2D(32,(3,3),activation='relu', input_shape=(150,150,3)))\n",
    "model.add(layers.MaxPooling2D((2,2)))"
   ]
  },
  {
   "cell_type": "code",
   "execution_count": 17,
   "metadata": {},
   "outputs": [],
   "source": [
    "model.add(layers.Conv2D(64,(3,3),activation='relu'))\n",
    "model.add(layers.MaxPooling2D((2,2)))"
   ]
  },
  {
   "cell_type": "code",
   "execution_count": 18,
   "metadata": {},
   "outputs": [],
   "source": [
    "model.add(layers.Conv2D(128,(3,3),activation='relu'))\n",
    "model.add(layers.MaxPooling2D((2,2)))"
   ]
  },
  {
   "cell_type": "code",
   "execution_count": 19,
   "metadata": {},
   "outputs": [],
   "source": [
    "model.add(layers.Conv2D(128,(3,3),activation='relu'))\n",
    "model.add(layers.MaxPooling2D((2,2)))"
   ]
  },
  {
   "cell_type": "code",
   "execution_count": 20,
   "metadata": {},
   "outputs": [],
   "source": [
    "model.add(layers.Flatten())\n",
    "model.add(layers.Dropout(0.5))"
   ]
  },
  {
   "cell_type": "code",
   "execution_count": 21,
   "metadata": {},
   "outputs": [],
   "source": [
    "model.add(layers.Dense(512, activation='relu'))\n",
    "model.add(layers.Dense(1, activation='sigmoid'))"
   ]
  },
  {
   "cell_type": "code",
   "execution_count": 22,
   "metadata": {},
   "outputs": [
    {
     "name": "stdout",
     "output_type": "stream",
     "text": [
      "Model: \"sequential\"\n",
      "_________________________________________________________________\n",
      "Layer (type)                 Output Shape              Param #   \n",
      "=================================================================\n",
      "conv2d (Conv2D)              (None, 148, 148, 32)      896       \n",
      "_________________________________________________________________\n",
      "max_pooling2d (MaxPooling2D) (None, 74, 74, 32)        0         \n",
      "_________________________________________________________________\n",
      "conv2d_1 (Conv2D)            (None, 72, 72, 64)        18496     \n",
      "_________________________________________________________________\n",
      "max_pooling2d_1 (MaxPooling2 (None, 36, 36, 64)        0         \n",
      "_________________________________________________________________\n",
      "conv2d_2 (Conv2D)            (None, 34, 34, 128)       73856     \n",
      "_________________________________________________________________\n",
      "max_pooling2d_2 (MaxPooling2 (None, 17, 17, 128)       0         \n",
      "_________________________________________________________________\n",
      "conv2d_3 (Conv2D)            (None, 15, 15, 128)       147584    \n",
      "_________________________________________________________________\n",
      "max_pooling2d_3 (MaxPooling2 (None, 7, 7, 128)         0         \n",
      "_________________________________________________________________\n",
      "flatten (Flatten)            (None, 6272)              0         \n",
      "_________________________________________________________________\n",
      "dropout (Dropout)            (None, 6272)              0         \n",
      "_________________________________________________________________\n",
      "dense (Dense)                (None, 512)               3211776   \n",
      "_________________________________________________________________\n",
      "dense_1 (Dense)              (None, 1)                 513       \n",
      "=================================================================\n",
      "Total params: 3,453,121\n",
      "Trainable params: 3,453,121\n",
      "Non-trainable params: 0\n",
      "_________________________________________________________________\n"
     ]
    }
   ],
   "source": [
    "model.summary()"
   ]
  },
  {
   "cell_type": "code",
   "execution_count": 23,
   "metadata": {},
   "outputs": [],
   "source": [
    "model.compile(loss='binary_crossentropy', optimizer=optimizers.RMSprop(lr=1e-4),metrics=['acc'])"
   ]
  },
  {
   "cell_type": "code",
   "execution_count": 24,
   "metadata": {},
   "outputs": [],
   "source": [
    "train_datagen = ImageDataGenerator(rescale=1./255, rotation_range=40,\n",
    "                                  width_shift_range=0.2,\n",
    "                                  height_shift_range=0.2,\n",
    "                                  shear_range=0.2,\n",
    "                                  zoom_range=0.2,\n",
    "                                  horizontal_flip=True,\n",
    "                                  fill_mode='nearest')\n",
    "test_datagen = ImageDataGenerator(rescale = 1./255, rotation_range=40,\n",
    "                                  width_shift_range=0.2,\n",
    "                                  height_shift_range=0.2,\n",
    "                                  shear_range=0.2,\n",
    "                                  zoom_range=0.2,\n",
    "                                  horizontal_flip=True,\n",
    "                                  fill_mode='nearest')"
   ]
  },
  {
   "cell_type": "code",
   "execution_count": 25,
   "metadata": {},
   "outputs": [
    {
     "name": "stdout",
     "output_type": "stream",
     "text": [
      "Found 1798 images belonging to 2 classes.\n"
     ]
    }
   ],
   "source": [
    "train_generator = train_datagen.flow_from_directory(train_path, target_size=(150,150),\n",
    "                                                   batch_size=20,\n",
    "                                                   class_mode='binary')"
   ]
  },
  {
   "cell_type": "code",
   "execution_count": 26,
   "metadata": {},
   "outputs": [
    {
     "name": "stdout",
     "output_type": "stream",
     "text": [
      "Found 772 images belonging to 2 classes.\n"
     ]
    }
   ],
   "source": [
    "validation_generator = test_datagen.flow_from_directory(validation_path, target_size=(150,150),\n",
    "                                                   batch_size=20,\n",
    "                                                   class_mode='binary')"
   ]
  },
  {
   "cell_type": "code",
   "execution_count": 27,
   "metadata": {},
   "outputs": [
    {
     "name": "stdout",
     "output_type": "stream",
     "text": [
      "Data batch shape: (20, 150, 150, 3)\n",
      "labels batch shape: (20,)\n"
     ]
    }
   ],
   "source": [
    "for data_batch,labels_batch in train_generator:\n",
    "    print('Data batch shape:', data_batch.shape)\n",
    "    print('labels batch shape:', labels_batch.shape)\n",
    "    break"
   ]
  },
  {
   "cell_type": "code",
   "execution_count": 28,
   "metadata": {},
   "outputs": [
    {
     "name": "stderr",
     "output_type": "stream",
     "text": [
      "C:\\ProgramData\\Anaconda3\\lib\\site-packages\\tensorflow\\python\\keras\\engine\\training.py:1844: UserWarning: `Model.fit_generator` is deprecated and will be removed in a future version. Please use `Model.fit`, which supports generators.\n",
      "  warnings.warn('`Model.fit_generator` is deprecated and '\n"
     ]
    },
    {
     "name": "stdout",
     "output_type": "stream",
     "text": [
      "Epoch 1/30\n",
      "90/90 [==============================] - 96s 1s/step - loss: 0.6955 - acc: 0.5003 - val_loss: 0.6712 - val_acc: 0.5829\n",
      "Epoch 2/30\n",
      "90/90 [==============================] - 74s 828ms/step - loss: 0.6769 - acc: 0.5858 - val_loss: 0.6661 - val_acc: 0.5712\n",
      "Epoch 3/30\n",
      "90/90 [==============================] - 72s 805ms/step - loss: 0.6644 - acc: 0.6127 - val_loss: 0.6409 - val_acc: 0.6205\n",
      "Epoch 4/30\n",
      "90/90 [==============================] - 71s 793ms/step - loss: 0.6551 - acc: 0.6101 - val_loss: 0.6372 - val_acc: 0.6606\n",
      "Epoch 5/30\n",
      "90/90 [==============================] - 72s 796ms/step - loss: 0.6290 - acc: 0.6615 - val_loss: 0.6225 - val_acc: 0.6412\n",
      "Epoch 6/30\n",
      "90/90 [==============================] - 71s 795ms/step - loss: 0.6219 - acc: 0.6595 - val_loss: 0.5880 - val_acc: 0.6554\n",
      "Epoch 7/30\n",
      "90/90 [==============================] - 69s 768ms/step - loss: 0.6192 - acc: 0.6590 - val_loss: 0.5761 - val_acc: 0.7163\n",
      "Epoch 8/30\n",
      "90/90 [==============================] - 71s 793ms/step - loss: 0.5714 - acc: 0.7164 - val_loss: 0.5638 - val_acc: 0.7254\n",
      "Epoch 9/30\n",
      "90/90 [==============================] - 72s 796ms/step - loss: 0.5581 - acc: 0.7229 - val_loss: 0.5376 - val_acc: 0.7176\n",
      "Epoch 10/30\n",
      "90/90 [==============================] - 69s 762ms/step - loss: 0.5486 - acc: 0.7441 - val_loss: 0.5168 - val_acc: 0.7487\n",
      "Epoch 11/30\n",
      "90/90 [==============================] - 69s 764ms/step - loss: 0.5370 - acc: 0.7216 - val_loss: 0.4845 - val_acc: 0.7863\n",
      "Epoch 12/30\n",
      "90/90 [==============================] - 68s 752ms/step - loss: 0.5212 - acc: 0.7684 - val_loss: 0.4716 - val_acc: 0.7850\n",
      "Epoch 13/30\n",
      "90/90 [==============================] - 69s 766ms/step - loss: 0.4989 - acc: 0.7772 - val_loss: 0.5606 - val_acc: 0.6943\n",
      "Epoch 14/30\n",
      "90/90 [==============================] - 68s 752ms/step - loss: 0.4834 - acc: 0.7668 - val_loss: 0.4429 - val_acc: 0.7966\n",
      "Epoch 15/30\n",
      "90/90 [==============================] - 70s 774ms/step - loss: 0.4518 - acc: 0.7999 - val_loss: 0.4262 - val_acc: 0.8096\n",
      "Epoch 16/30\n",
      "90/90 [==============================] - 67s 749ms/step - loss: 0.4459 - acc: 0.7713 - val_loss: 0.4761 - val_acc: 0.7811\n",
      "Epoch 17/30\n",
      "90/90 [==============================] - 68s 751ms/step - loss: 0.4057 - acc: 0.8150 - val_loss: 0.4613 - val_acc: 0.7474\n",
      "Epoch 18/30\n",
      "90/90 [==============================] - 67s 749ms/step - loss: 0.4095 - acc: 0.8058 - val_loss: 0.3844 - val_acc: 0.8187\n",
      "Epoch 19/30\n",
      "90/90 [==============================] - 68s 758ms/step - loss: 0.3943 - acc: 0.8052 - val_loss: 0.4221 - val_acc: 0.8122\n",
      "Epoch 20/30\n",
      "90/90 [==============================] - 68s 753ms/step - loss: 0.3918 - acc: 0.8130 - val_loss: 0.4318 - val_acc: 0.8018\n",
      "Epoch 21/30\n",
      "90/90 [==============================] - 70s 774ms/step - loss: 0.3930 - acc: 0.8031 - val_loss: 0.4166 - val_acc: 0.8057\n",
      "Epoch 22/30\n",
      "90/90 [==============================] - 68s 756ms/step - loss: 0.3892 - acc: 0.8023 - val_loss: 0.5794 - val_acc: 0.6878\n",
      "Epoch 23/30\n",
      "90/90 [==============================] - 75s 838ms/step - loss: 0.4160 - acc: 0.7889 - val_loss: 0.5336 - val_acc: 0.7915\n",
      "Epoch 24/30\n",
      "90/90 [==============================] - 69s 772ms/step - loss: 0.3741 - acc: 0.8210 - val_loss: 0.3690 - val_acc: 0.8212\n",
      "Epoch 25/30\n",
      "90/90 [==============================] - 68s 751ms/step - loss: 0.3664 - acc: 0.8255 - val_loss: 0.3650 - val_acc: 0.8212\n",
      "Epoch 26/30\n",
      "90/90 [==============================] - 68s 750ms/step - loss: 0.3816 - acc: 0.8131 - val_loss: 0.4485 - val_acc: 0.8212\n",
      "Epoch 27/30\n",
      "90/90 [==============================] - 68s 758ms/step - loss: 0.3436 - acc: 0.8428 - val_loss: 0.3690 - val_acc: 0.8161\n",
      "Epoch 28/30\n",
      "90/90 [==============================] - 69s 767ms/step - loss: 0.3389 - acc: 0.8279 - val_loss: 0.3633 - val_acc: 0.8238\n",
      "Epoch 29/30\n",
      "90/90 [==============================] - 68s 753ms/step - loss: 0.3349 - acc: 0.8385 - val_loss: 0.3769 - val_acc: 0.8174\n",
      "Epoch 30/30\n",
      "90/90 [==============================] - 68s 751ms/step - loss: 0.3070 - acc: 0.8420 - val_loss: 0.3490 - val_acc: 0.8381\n"
     ]
    }
   ],
   "source": [
    "history = model.fit_generator(train_generator,\n",
    "                             steps_per_epoch=90,\n",
    "                             epochs=30,\n",
    "                             validation_data=validation_generator,\n",
    "                             validation_steps=39)"
   ]
  },
  {
   "cell_type": "code",
   "execution_count": 29,
   "metadata": {},
   "outputs": [],
   "source": [
    "acc = history.history['acc']\n",
    "val_acc = history.history['val_acc']\n",
    "loss = history.history['loss']\n",
    "val_loss = history.history['val_loss']"
   ]
  },
  {
   "cell_type": "code",
   "execution_count": 30,
   "metadata": {},
   "outputs": [],
   "source": [
    "epochs = range(1,len(acc) + 1)"
   ]
  },
  {
   "cell_type": "code",
   "execution_count": 31,
   "metadata": {},
   "outputs": [
    {
     "data": {
      "text/plain": [
       "<matplotlib.legend.Legend at 0x17b83ac50c8>"
      ]
     },
     "execution_count": 31,
     "metadata": {},
     "output_type": "execute_result"
    },
    {
     "data": {
      "image/png": "[encoded data removed]",
      "text/plain": [
       "<Figure size 432x288 with 1 Axes>"
      ]
     },
     "metadata": {
      "needs_background": "light"
     },
     "output_type": "display_data"
    }
   ],
   "source": [
    "plt.plot(epochs,acc,'bo',label='Trainning acc')\n",
    "plt.plot(epochs,val_acc,'b',label='Validation acc')\n",
    "plt.title('Trainning and validation accuracy')\n",
    "plt.legend()"
   ]
  },
  {
   "cell_type": "code",
   "execution_count": 32,
   "metadata": {},
   "outputs": [
    {
     "data": {
      "text/plain": [
       "<matplotlib.legend.Legend at 0x17b83bc4b88>"
      ]
     },
     "execution_count": 32,
     "metadata": {},
     "output_type": "execute_result"
    },
    {
     "data": {
      "image/png": "[encoded data removed]",
      "text/plain": [
       "<Figure size 432x288 with 1 Axes>"
      ]
     },
     "metadata": {
      "needs_background": "light"
     },
     "output_type": "display_data"
    }
   ],
   "source": [
    "plt.figure()\n",
    "plt.plot(epochs,loss, 'bo',label='Trainning loss')\n",
    "plt.plot(epochs,val_loss, 'b', label='Validation loss')\n",
    "plt.title('Trainning and validation loss')\n",
    "plt.legend()"
   ]
  },
  {
   "cell_type": "code",
   "execution_count": null,
   "metadata": {},
   "outputs": [],
   "source": []
  },
  {
   "cell_type": "code",
   "execution_count": null,
   "metadata": {},
   "outputs": [],
   "source": []
  }
 ],
 "metadata": {
  "kernelspec": {
   "display_name": "Python 3",
   "language": "python",
   "name": "python3"
  },
  "language_info": {
   "codemirror_mode": {
    "name": "ipython",
    "version": 3
   },
   "file_extension": ".py",
   "mimetype": "text/x-python",
   "name": "python",
   "nbconvert_exporter": "python",
   "pygments_lexer": "ipython3",
   "version": "3.7.6"
  }
 },
 "nbformat": 4,
 "nbformat_minor": 4
}
