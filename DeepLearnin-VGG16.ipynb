{
 "cells": [
  {
   "cell_type": "code",
   "execution_count": 1,
   "metadata": {},
   "outputs": [],
   "source": [
    "import os\n",
    "import keras\n",
    "from keras import layers,models,optimizers, applications\n",
    "from keras.preprocessing.image import ImageDataGenerator\n",
    "from sklearn.model_selection import train_test_split\n",
    "import pandas as pd\n",
    "import matplotlib.pyplot as plt\n",
    "import time\n",
    "import shutil\n",
    "import pickle\n",
    "import math"
   ]
  },
  {
   "cell_type": "markdown",
   "metadata": {},
   "source": [
    "# Download dataset\n",
    "[Download](https://liveeduisegiunl-my.sharepoint.com/:u:/g/personal/m20200597_novaims_unl_pt/EWfJRtW0BRRNoOmYzb6FviQB3_HP_N-rsnPcxm4J7fxEBQ?e=8Mh1xt)\n",
    "\n",
    "Download file and unzip in the base_dir directory."
   ]
  },
  {
   "cell_type": "code",
   "execution_count": 2,
   "metadata": {},
   "outputs": [
    {
     "name": "stdout",
     "output_type": "stream",
     "text": [
      "Num GPUs Available:  1\n"
     ]
    }
   ],
   "source": [
    "import tensorflow as tf\n",
    "print(\"Num GPUs Available: \", len(tf.config.list_physical_devices('GPU')))"
   ]
  },
  {
   "cell_type": "code",
   "execution_count": 3,
   "metadata": {},
   "outputs": [],
   "source": [
    "TrainSamplePercentage = 70\n",
    "RandomSeed = 42\n",
    "base_dir = \"C:\\\\Users\\\\flopes\\\\Desktop\\\\CovidChestXRay\" # Change to personal folder"
   ]
  },
  {
   "cell_type": "markdown",
   "metadata": {},
   "source": [
    "# Organize Images"
   ]
  },
  {
   "cell_type": "code",
   "execution_count": 4,
   "metadata": {},
   "outputs": [],
   "source": [
    "ImageBank = \"ImageBank\""
   ]
  },
  {
   "cell_type": "code",
   "execution_count": 5,
   "metadata": {},
   "outputs": [],
   "source": [
    "ImageBankPath = os.path.join(base_dir, ImageBank)"
   ]
  },
  {
   "cell_type": "code",
   "execution_count": 6,
   "metadata": {},
   "outputs": [],
   "source": [
    "def create_dir(dir):\n",
    "    if os.path.exists(dir):\n",
    "        shutil.rmtree(dir)\n",
    "    os.makedirs(dir)"
   ]
  },
  {
   "cell_type": "code",
   "execution_count": 7,
   "metadata": {},
   "outputs": [
    {
     "name": "stdout",
     "output_type": "stream",
     "text": [
      "COVID - Train Sample Size : 2946\n",
      "NO COVID - Train Sample Size : 12554\n"
     ]
    }
   ],
   "source": [
    "covid_images_path = os.path.join(ImageBankPath, 'COVID')\n",
    "noncovid_images_path = os.path.join(ImageBankPath, 'NOCOVID')\n",
    "\n",
    "len_covid = int(len(os.listdir(covid_images_path)) * TrainSamplePercentage / 100)\n",
    "len_no_covid = int(len(os.listdir(noncovid_images_path)) * TrainSamplePercentage / 100)\n",
    "\n",
    "print(f\"COVID - Train Sample Size : {len_covid}\")\n",
    "print(f\"NO COVID - Train Sample Size : {len_no_covid}\")"
   ]
  },
  {
   "cell_type": "code",
   "execution_count": 8,
   "metadata": {},
   "outputs": [],
   "source": [
    "train_path =  os.path.join(base_dir, 'train')\n",
    "validation_path = os.path.join(base_dir, 'validation')"
   ]
  },
  {
   "cell_type": "code",
   "execution_count": 9,
   "metadata": {},
   "outputs": [],
   "source": [
    "def CreateTrainAndVal(source_COVID, source_NOCOVID,dest_train,dest_val,TrainSamplePercentage, RandomSeed):\n",
    "    create_dir(dest_train)\n",
    "    create_dir(dest_val)\n",
    "    \n",
    "    # Create class folder in train\n",
    "    covid_train_path =  os.path.join(dest_train, 'COVID')\n",
    "    create_dir(covid_train_path)\n",
    "    no_covid_train_path = os.path.join(dest_train, 'NOCOVID')\n",
    "    create_dir(no_covid_train_path)\n",
    "    \n",
    "    # Create class folder in val\n",
    "    covid_val_path =  os.path.join(dest_val, 'COVID')\n",
    "    create_dir(covid_val_path)\n",
    "    no_covid_val_path = os.path.join(dest_val, 'NOCOVID')\n",
    "    create_dir(no_covid_val_path)\n",
    "    \n",
    "    \n",
    "    ImageSplit = train_test_split(os.listdir(source_COVID), test_size=(100-TrainSamplePercentage)/100.0, random_state=RandomSeed)\n",
    "    \n",
    "    for image in ImageSplit[0]: # train\n",
    "        src = os.path.join(source_COVID, image)\n",
    "        dest = os.path.join(covid_train_path, image)\n",
    "        shutil.copyfile(src, dest)\n",
    "        \n",
    "    for image in ImageSplit[1]: # val\n",
    "        src = os.path.join(source_COVID, image)\n",
    "        dest = os.path.join(covid_val_path, image)\n",
    "        shutil.copyfile(src, dest)\n",
    "\n",
    "        \n",
    "    ImageSplit = train_test_split(os.listdir(source_NOCOVID), test_size=(100-TrainSamplePercentage)/100.0, random_state=RandomSeed)\n",
    "    \n",
    "    for image in ImageSplit[0]: # train\n",
    "        src = os.path.join(source_NOCOVID, image)\n",
    "        dest = os.path.join(no_covid_train_path, image)\n",
    "        shutil.copyfile(src, dest)\n",
    "        \n",
    "    for image in ImageSplit[1]: # val\n",
    "        src = os.path.join(source_NOCOVID, image)\n",
    "        dest = os.path.join(no_covid_val_path, image)\n",
    "        shutil.copyfile(src, dest)"
   ]
  },
  {
   "cell_type": "code",
   "execution_count": 10,
   "metadata": {},
   "outputs": [],
   "source": [
    "CreateTrainAndVal(covid_images_path, \n",
    "                  noncovid_images_path,\n",
    "                  train_path,\n",
    "                  validation_path,\n",
    "                  TrainSamplePercentage, \n",
    "                  RandomSeed)"
   ]
  },
  {
   "cell_type": "code",
   "execution_count": 11,
   "metadata": {},
   "outputs": [],
   "source": [
    "# Reset Keras Session\n",
    "def reset_keras(model):\n",
    "    sess = tf.compat.v1.keras.backend.get_session()\n",
    "    tf.compat.v1.keras.backend.clear_session()\n",
    "    sess.close()\n",
    "    sess = tf.compat.v1.keras.backend.get_session()\n",
    "\n",
    "    try:\n",
    "        del model # this is from global space - change this as you need\n",
    "    except:\n",
    "        pass\n",
    "\n",
    "    # use the same config as you used to create the session\n",
    "    config = tf.compat.v1.ConfigProto()\n",
    "    config.gpu_options.per_process_gpu_memory_fraction = 1\n",
    "    config.gpu_options.visible_device_list = \"0\"\n",
    "    tf.compat.v1.keras.backend.set_session(tf.compat.v1.Session(config=config))"
   ]
  },
  {
   "cell_type": "markdown",
   "metadata": {},
   "source": [
    "# Transfer Learning"
   ]
  },
  {
   "cell_type": "code",
   "execution_count": 12,
   "metadata": {},
   "outputs": [],
   "source": [
    "def transferLearning(basemodel,imageprocessor,parameters):\n",
    "    base_model.trainable = False\n",
    "    inputs = keras.Input(shape=parameters['input_shape'])\n",
    "    x = base_model(inputs, training=False)\n",
    "    x = layers.GlobalAveragePooling2D()(x)\n",
    "    outputs = layers.Dense(2,activation=parameters['activation_output'])(x)\n",
    "    model = keras.Model(inputs, outputs)\n",
    "\n",
    "    model.compile(optimizer=optimizers.Adam(learning_rate=parameters['learning_rate']),\n",
    "                  loss=parameters['loss_function'],\n",
    "                  metrics=['acc','AUC'])\n",
    "    \n",
    "    \n",
    "    train_datagen = ImageDataGenerator(preprocessing_function=imageprocessor)\n",
    "    val_datagen = ImageDataGenerator(preprocessing_function=imageprocessor)\n",
    "\n",
    "    train_generator=train_datagen.flow_from_directory(train_path,\n",
    "                                                     color_mode='rgb',\n",
    "                                                     batch_size=parameters['batch_size'],\n",
    "                                                     class_mode='categorical',\n",
    "                                                     shuffle=True)\n",
    "\n",
    "    val_generator=val_datagen.flow_from_directory(validation_path, \n",
    "                                                     color_mode='rgb',\n",
    "                                                     batch_size=parameters['batch_size'],\n",
    "                                                     class_mode='categorical',\n",
    "                                                     shuffle=True)\n",
    "    \n",
    "    step_size_train = train_generator.n//train_generator.batch_size\n",
    "    step_size_val = val_generator.n//val_generator.batch_size\n",
    "\n",
    "    start_time = time.time()\n",
    "    history = model.fit(train_generator,\n",
    "                          steps_per_epoch = step_size_train,\n",
    "                          validation_data = val_generator,\n",
    "#                           epochs = 1,\n",
    "                          epochs = parameters['epochs'],\n",
    "                          validation_steps = step_size_val\n",
    "                         )\n",
    "    \n",
    "    final_time = (time.time() - start_time)  / 60.0\n",
    "    return history, final_time"
   ]
  },
  {
   "cell_type": "markdown",
   "metadata": {},
   "source": [
    "# VGG16"
   ]
  },
  {
   "cell_type": "code",
   "execution_count": 13,
   "metadata": {},
   "outputs": [
    {
     "name": "stdout",
     "output_type": "stream",
     "text": [
      "Found 15500 images belonging to 2 classes.\n",
      "Found 6644 images belonging to 2 classes.\n",
      "Epoch 1/30\n",
      "310/310 [==============================] - 305s 918ms/step - loss: 0.9294 - acc: 0.6801 - auc: 0.7138 - val_loss: 0.5783 - val_acc: 0.7873 - val_auc: 0.8503\n",
      "Epoch 2/30\n",
      "310/310 [==============================] - 260s 838ms/step - loss: 0.5288 - acc: 0.8020 - auc: 0.8665 - val_loss: 0.4480 - val_acc: 0.8191 - val_auc: 0.8928\n",
      "Epoch 3/30\n",
      "310/310 [==============================] - 260s 838ms/step - loss: 0.4327 - acc: 0.8238 - auc: 0.8985 - val_loss: 0.3804 - val_acc: 0.8445 - val_auc: 0.9177\n",
      "Epoch 4/30\n",
      "310/310 [==============================] - 260s 837ms/step - loss: 0.3468 - acc: 0.8572 - auc: 0.9302 - val_loss: 0.3370 - val_acc: 0.8626 - val_auc: 0.9340\n",
      "Epoch 5/30\n",
      "310/310 [==============================] - 261s 841ms/step - loss: 0.3194 - acc: 0.8703 - auc: 0.9404 - val_loss: 0.3105 - val_acc: 0.8730 - val_auc: 0.9451\n",
      "Epoch 6/30\n",
      "310/310 [==============================] - 261s 843ms/step - loss: 0.2915 - acc: 0.8815 - auc: 0.9490 - val_loss: 0.2859 - val_acc: 0.8838 - val_auc: 0.9515\n",
      "Epoch 7/30\n",
      "310/310 [==============================] - 264s 850ms/step - loss: 0.2683 - acc: 0.8911 - auc: 0.9566 - val_loss: 0.2694 - val_acc: 0.8917 - val_auc: 0.9564\n",
      "Epoch 8/30\n",
      "310/310 [==============================] - 264s 850ms/step - loss: 0.2478 - acc: 0.9028 - auc: 0.9626 - val_loss: 0.2559 - val_acc: 0.8991 - val_auc: 0.9606\n",
      "Epoch 9/30\n",
      "310/310 [==============================] - 266s 858ms/step - loss: 0.2435 - acc: 0.9025 - auc: 0.9639 - val_loss: 0.2446 - val_acc: 0.9026 - val_auc: 0.9636\n",
      "Epoch 10/30\n",
      "310/310 [==============================] - 269s 866ms/step - loss: 0.2329 - acc: 0.9102 - auc: 0.9669 - val_loss: 0.2358 - val_acc: 0.9065 - val_auc: 0.9662\n",
      "Epoch 11/30\n",
      "310/310 [==============================] - 263s 849ms/step - loss: 0.2168 - acc: 0.9126 - auc: 0.9712 - val_loss: 0.2296 - val_acc: 0.9106 - val_auc: 0.9679\n",
      "Epoch 12/30\n",
      "310/310 [==============================] - 267s 860ms/step - loss: 0.2076 - acc: 0.9189 - auc: 0.9737 - val_loss: 0.2216 - val_acc: 0.9139 - val_auc: 0.9699\n",
      "Epoch 13/30\n",
      "310/310 [==============================] - 274s 882ms/step - loss: 0.2080 - acc: 0.9156 - auc: 0.9736 - val_loss: 0.2160 - val_acc: 0.9144 - val_auc: 0.9714\n",
      "Epoch 14/30\n",
      "310/310 [==============================] - 277s 893ms/step - loss: 0.1984 - acc: 0.9221 - auc: 0.9759 - val_loss: 0.2124 - val_acc: 0.9179 - val_auc: 0.9722\n",
      "Epoch 15/30\n",
      "310/310 [==============================] - 269s 867ms/step - loss: 0.2003 - acc: 0.9191 - auc: 0.9756 - val_loss: 0.2063 - val_acc: 0.9194 - val_auc: 0.9736\n",
      "Epoch 16/30\n",
      "310/310 [==============================] - 267s 862ms/step - loss: 0.1918 - acc: 0.9257 - auc: 0.9775 - val_loss: 0.2028 - val_acc: 0.9203 - val_auc: 0.9745\n",
      "Epoch 17/30\n",
      "310/310 [==============================] - 267s 862ms/step - loss: 0.1920 - acc: 0.9215 - auc: 0.9776 - val_loss: 0.2008 - val_acc: 0.9214 - val_auc: 0.9750\n",
      "Epoch 18/30\n",
      "310/310 [==============================] - 265s 855ms/step - loss: 0.1841 - acc: 0.9277 - auc: 0.9793 - val_loss: 0.1955 - val_acc: 0.9247 - val_auc: 0.9761\n",
      "Epoch 19/30\n",
      "310/310 [==============================] - 267s 862ms/step - loss: 0.1914 - acc: 0.9257 - auc: 0.9774 - val_loss: 0.1946 - val_acc: 0.9262 - val_auc: 0.9765\n",
      "Epoch 20/30\n",
      "310/310 [==============================] - 269s 866ms/step - loss: 0.1786 - acc: 0.9307 - auc: 0.9804 - val_loss: 0.1925 - val_acc: 0.9253 - val_auc: 0.9769\n",
      "Epoch 21/30\n",
      "310/310 [==============================] - 267s 861ms/step - loss: 0.1739 - acc: 0.9299 - auc: 0.9817 - val_loss: 0.1913 - val_acc: 0.9253 - val_auc: 0.9772\n",
      "Epoch 22/30\n",
      "310/310 [==============================] - 272s 876ms/step - loss: 0.1766 - acc: 0.9284 - auc: 0.9810 - val_loss: 0.1887 - val_acc: 0.9309 - val_auc: 0.9777\n",
      "Epoch 23/30\n",
      "310/310 [==============================] - 284s 916ms/step - loss: 0.1725 - acc: 0.9331 - auc: 0.9818 - val_loss: 0.1906 - val_acc: 0.9315 - val_auc: 0.9777\n",
      "Epoch 24/30\n",
      "310/310 [==============================] - 283s 912ms/step - loss: 0.1728 - acc: 0.9317 - auc: 0.9817 - val_loss: 0.1845 - val_acc: 0.9315 - val_auc: 0.9787\n",
      "Epoch 25/30\n",
      "310/310 [==============================] - 281s 907ms/step - loss: 0.1702 - acc: 0.9328 - auc: 0.9824 - val_loss: 0.1834 - val_acc: 0.9314 - val_auc: 0.9788\n",
      "Epoch 26/30\n",
      "310/310 [==============================] - 286s 920ms/step - loss: 0.1648 - acc: 0.9367 - auc: 0.9832 - val_loss: 0.1871 - val_acc: 0.9338 - val_auc: 0.9784\n",
      "Epoch 27/30\n",
      "310/310 [==============================] - 286s 921ms/step - loss: 0.1722 - acc: 0.9326 - auc: 0.9816 - val_loss: 0.1807 - val_acc: 0.9317 - val_auc: 0.9794\n",
      "Epoch 28/30\n",
      "310/310 [==============================] - 290s 934ms/step - loss: 0.1643 - acc: 0.9361 - auc: 0.9835 - val_loss: 0.1798 - val_acc: 0.9338 - val_auc: 0.9797\n",
      "Epoch 29/30\n",
      "310/310 [==============================] - 291s 938ms/step - loss: 0.1634 - acc: 0.9377 - auc: 0.9835 - val_loss: 0.1803 - val_acc: 0.9345 - val_auc: 0.9797\n",
      "Epoch 30/30\n",
      "310/310 [==============================] - 299s 963ms/step - loss: 0.1576 - acc: 0.9390 - auc: 0.9850 - val_loss: 0.1793 - val_acc: 0.9320 - val_auc: 0.9797\n"
     ]
    }
   ],
   "source": [
    "base_model = applications.VGG16(weights='imagenet',\n",
    "                                    input_shape=(224, 224, 3),\n",
    "                                    include_top=False)\n",
    "\n",
    "imageprocessor = applications.vgg16.preprocess_input\n",
    "\n",
    "tf_parameters = {\n",
    "    'model_name': 'VGG16',\n",
    "    'activation_output': 'softmax',\n",
    "    'filter': 'NA',\n",
    "    'layers_to_add': 'NA',\n",
    "    'activation': 'NA',\n",
    "    'input_shape':(224, 224, 3),\n",
    "    'epochs': 30,\n",
    "    'batch_size': 50,\n",
    "    'learning_rate': 1e-4,\n",
    "    'loss_function' : 'categorical_crossentropy'\n",
    "    \n",
    "}\n",
    "\n",
    "VGG16Results, VGG16Duration = transferLearning(base_model,imageprocessor,tf_parameters)"
   ]
  },
  {
   "cell_type": "code",
   "execution_count": 14,
   "metadata": {},
   "outputs": [
    {
     "name": "stdout",
     "output_type": "stream",
     "text": [
      "Training Duration: 136.54369411468505 min\n"
     ]
    }
   ],
   "source": [
    "print(f\"Training Duration: {VGG16Duration} min\")\n",
    "\n",
    "with open('VGG16HistoryDict.pkl', 'wb') as file_pi:\n",
    "        pickle.dump(VGG16Results.history, file_pi)"
   ]
  },
  {
   "cell_type": "markdown",
   "metadata": {},
   "source": [
    "# Graphs"
   ]
  },
  {
   "cell_type": "code",
   "execution_count": 15,
   "metadata": {},
   "outputs": [],
   "source": [
    "acc = VGG16Results.history['acc']\n",
    "val_acc = VGG16Results.history['val_acc']\n",
    "auc = VGG16Results.history['auc']\n",
    "val_auc = VGG16Results.history['val_auc']\n",
    "loss = VGG16Results.history['loss']\n",
    "val_loss = VGG16Results.history['val_loss']\n",
    "\n",
    "epochs = range(1,len(acc) + 1)"
   ]
  },
  {
   "cell_type": "code",
   "execution_count": 16,
   "metadata": {},
   "outputs": [
    {
     "data": {
      "text/plain": [
       "<matplotlib.legend.Legend at 0x1549a3283a0>"
      ]
     },
     "execution_count": 16,
     "metadata": {},
     "output_type": "execute_result"
    },
    {
     "data": {
      "image/png": "[encoded data removed]",
      "text/plain": [
       "<Figure size 432x288 with 1 Axes>"
      ]
     },
     "metadata": {
      "needs_background": "light"
     },
     "output_type": "display_data"
    }
   ],
   "source": [
    "plt.plot(epochs,acc,'bo',label='Trainning acc')\n",
    "plt.plot(epochs,val_acc,'b',label='Validation acc')\n",
    "plt.title('Trainning and validation accuracy')\n",
    "plt.legend()"
   ]
  },
  {
   "cell_type": "code",
   "execution_count": 17,
   "metadata": {},
   "outputs": [
    {
     "data": {
      "text/plain": [
       "<matplotlib.legend.Legend at 0x1549c76c6a0>"
      ]
     },
     "execution_count": 17,
     "metadata": {},
     "output_type": "execute_result"
    },
    {
     "data": {
      "image/png": "[encoded data removed]",
      "text/plain": [
       "<Figure size 432x288 with 1 Axes>"
      ]
     },
     "metadata": {
      "needs_background": "light"
     },
     "output_type": "display_data"
    }
   ],
   "source": [
    "plt.plot(epochs,auc,'bo',label='Trainning acc')\n",
    "plt.plot(epochs,val_auc,'b',label='Validation acc')\n",
    "plt.title('Trainning and validation AUC')\n",
    "plt.legend()"
   ]
  },
  {
   "cell_type": "code",
   "execution_count": 18,
   "metadata": {},
   "outputs": [
    {
     "data": {
      "text/plain": [
       "<matplotlib.legend.Legend at 0x1549c7ec100>"
      ]
     },
     "execution_count": 18,
     "metadata": {},
     "output_type": "execute_result"
    },
    {
     "data": {
      "image/png": "[encoded data removed]",
      "text/plain": [
       "<Figure size 432x288 with 1 Axes>"
      ]
     },
     "metadata": {
      "needs_background": "light"
     },
     "output_type": "display_data"
    }
   ],
   "source": [
    "plt.figure()\n",
    "plt.plot(epochs,loss, 'bo',label='Trainning loss')\n",
    "plt.plot(epochs,val_loss, 'b', label='Validation loss')\n",
    "plt.title('Trainning and validation loss')\n",
    "plt.legend()"
   ]
  }
 ],
 "metadata": {
  "kernelspec": {
   "display_name": "Python 3",
   "language": "python",
   "name": "python3"
  },
  "language_info": {
   "codemirror_mode": {
    "name": "ipython",
    "version": 3
   },
   "file_extension": ".py",
   "mimetype": "text/x-python",
   "name": "python",
   "nbconvert_exporter": "python",
   "pygments_lexer": "ipython3",
   "version": "3.8.5"
  }
 },
 "nbformat": 4,
 "nbformat_minor": 4
}
