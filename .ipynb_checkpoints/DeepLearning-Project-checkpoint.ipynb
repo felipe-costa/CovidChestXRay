{
 "cells": [
  {
   "cell_type": "code",
   "execution_count": 1,
   "metadata": {},
   "outputs": [],
   "source": [
    "import os, random\n",
    "from keras import layers,models,optimizers\n",
    "from keras.preprocessing.image import ImageDataGenerator\n",
    "import matplotlib.pyplot as plt"
   ]
  },
  {
   "cell_type": "code",
   "execution_count": 7,
   "metadata": {},
   "outputs": [],
   "source": [
    "base_dir = \"C:\\\\Users\\\\z0045zxy\\\\OneDrive - NOVAIMS\\\\2º semester\\\\Deep Learning\\\\Project\\\\covid\""
   ]
  },
  {
   "cell_type": "code",
   "execution_count": 8,
   "metadata": {},
   "outputs": [],
   "source": [
    "covid_original_path = os.path.join(base_dir, 'CT_COVID')\n",
    "no_covid_original_path = os.path.join(base_dir, 'CT_NonCOVID')\n",
    "\n",
    "len_covid = int(len(os.listdir(covid_original_path)) * 70 / 100)\n",
    "len_no_covid = int(len(os.listdir(no_covid_original_path)) * 70 / 100)"
   ]
  },
  {
   "cell_type": "code",
   "execution_count": 9,
   "metadata": {},
   "outputs": [],
   "source": [
    "train_path =  os.path.join(base_dir, 'train')\n",
    "#os.mkdir(train_path)\n",
    "validation_path = os.path.join(base_dir, 'validation')\n",
    "#os.mkdir(validation_path)"
   ]
  },
  {
   "cell_type": "code",
   "execution_count": 10,
   "metadata": {},
   "outputs": [],
   "source": [
    "covid_train_path =  os.path.join(train_path, 'COVID')\n",
    "#os.mkdir(covid_train_path)\n",
    "no_covid_train_path = os.path.join(train_path, 'NOCOVID')\n",
    "#os.mkdir(no_covid_train_path)"
   ]
  },
  {
   "cell_type": "code",
   "execution_count": 11,
   "metadata": {},
   "outputs": [],
   "source": [
    "covid_val_path =  os.path.join(validation_path, 'COVID')\n",
    "#os.mkdir(covid_val_path)\n",
    "no_covid_val_path = os.path.join(validation_path, 'NOCOVID')\n",
    "#os.mkdir(no_covid_val_path)"
   ]
  },
  {
   "cell_type": "code",
   "execution_count": 12,
   "metadata": {},
   "outputs": [],
   "source": [
    "covid_list = os.listdir(covid_original_path)\n",
    "no_covid_list = os.listdir(no_covid_original_path)"
   ]
  },
  {
   "cell_type": "code",
   "execution_count": 13,
   "metadata": {},
   "outputs": [],
   "source": [
    "train_covid_list = random.sample(covid_list,len_covid)\n",
    "train_no_covid_list = random.sample(no_covid_list,len_no_covid)"
   ]
  },
  {
   "cell_type": "code",
   "execution_count": 14,
   "metadata": {},
   "outputs": [],
   "source": [
    "for file_name in train_covid_list:\n",
    "    source = os.path.join(covid_original_path,file_name)\n",
    "    target = os.path.join(covid_train_path,file_name)\n",
    "    os.rename(source,target)"
   ]
  },
  {
   "cell_type": "code",
   "execution_count": 15,
   "metadata": {},
   "outputs": [],
   "source": [
    "for file_name in train_no_covid_list:\n",
    "    source = os.path.join(no_covid_original_path,file_name)\n",
    "    target = os.path.join(no_covid_train_path,file_name)\n",
    "    os.rename(source,target)"
   ]
  },
  {
   "cell_type": "code",
   "execution_count": 16,
   "metadata": {},
   "outputs": [],
   "source": [
    "covid_list = os.listdir(covid_original_path)\n",
    "no_covid_list = os.listdir(no_covid_original_path)"
   ]
  },
  {
   "cell_type": "code",
   "execution_count": 17,
   "metadata": {},
   "outputs": [],
   "source": [
    "for file_name in covid_list:\n",
    "    source = os.path.join(covid_original_path,file_name)\n",
    "    target = os.path.join(covid_val_path,file_name)\n",
    "    os.rename(source,target)"
   ]
  },
  {
   "cell_type": "code",
   "execution_count": 18,
   "metadata": {},
   "outputs": [],
   "source": [
    "for file_name in no_covid_list:\n",
    "    source = os.path.join(no_covid_original_path,file_name)\n",
    "    target = os.path.join(no_covid_val_path,file_name)\n",
    "    os.rename(source,target)"
   ]
  },
  {
   "cell_type": "code",
   "execution_count": 19,
   "metadata": {},
   "outputs": [],
   "source": [
    "model = models.Sequential()\n",
    "model.add(layers.Conv2D(32,(3,3),activation='relu', input_shape=(150,150,3)))\n",
    "model.add(layers.MaxPooling2D((2,2)))"
   ]
  },
  {
   "cell_type": "code",
   "execution_count": 20,
   "metadata": {},
   "outputs": [],
   "source": [
    "model.add(layers.Conv2D(64,(3,3),activation='relu'))\n",
    "model.add(layers.MaxPooling2D((2,2)))"
   ]
  },
  {
   "cell_type": "code",
   "execution_count": 21,
   "metadata": {},
   "outputs": [],
   "source": [
    "model.add(layers.Conv2D(128,(3,3),activation='relu'))\n",
    "model.add(layers.MaxPooling2D((2,2)))"
   ]
  },
  {
   "cell_type": "code",
   "execution_count": 22,
   "metadata": {},
   "outputs": [],
   "source": [
    "model.add(layers.Conv2D(128,(3,3),activation='relu'))\n",
    "model.add(layers.MaxPooling2D((2,2)))"
   ]
  },
  {
   "cell_type": "code",
   "execution_count": 23,
   "metadata": {},
   "outputs": [],
   "source": [
    "model.add(layers.Flatten())\n",
    "model.add(layers.Dropout(0.5))"
   ]
  },
  {
   "cell_type": "code",
   "execution_count": 24,
   "metadata": {},
   "outputs": [],
   "source": [
    "model.add(layers.Dense(512, activation='relu'))\n",
    "model.add(layers.Dense(1, activation='sigmoid'))"
   ]
  },
  {
   "cell_type": "code",
   "execution_count": 25,
   "metadata": {},
   "outputs": [
    {
     "name": "stdout",
     "output_type": "stream",
     "text": [
      "Model: \"sequential\"\n",
      "_________________________________________________________________\n",
      "Layer (type)                 Output Shape              Param #   \n",
      "=================================================================\n",
      "conv2d (Conv2D)              (None, 148, 148, 32)      896       \n",
      "_________________________________________________________________\n",
      "max_pooling2d (MaxPooling2D) (None, 74, 74, 32)        0         \n",
      "_________________________________________________________________\n",
      "conv2d_1 (Conv2D)            (None, 72, 72, 64)        18496     \n",
      "_________________________________________________________________\n",
      "max_pooling2d_1 (MaxPooling2 (None, 36, 36, 64)        0         \n",
      "_________________________________________________________________\n",
      "conv2d_2 (Conv2D)            (None, 34, 34, 128)       73856     \n",
      "_________________________________________________________________\n",
      "max_pooling2d_2 (MaxPooling2 (None, 17, 17, 128)       0         \n",
      "_________________________________________________________________\n",
      "conv2d_3 (Conv2D)            (None, 15, 15, 128)       147584    \n",
      "_________________________________________________________________\n",
      "max_pooling2d_3 (MaxPooling2 (None, 7, 7, 128)         0         \n",
      "_________________________________________________________________\n",
      "flatten (Flatten)            (None, 6272)              0         \n",
      "_________________________________________________________________\n",
      "dropout (Dropout)            (None, 6272)              0         \n",
      "_________________________________________________________________\n",
      "dense (Dense)                (None, 512)               3211776   \n",
      "_________________________________________________________________\n",
      "dense_1 (Dense)              (None, 1)                 513       \n",
      "=================================================================\n",
      "Total params: 3,453,121\n",
      "Trainable params: 3,453,121\n",
      "Non-trainable params: 0\n",
      "_________________________________________________________________\n"
     ]
    }
   ],
   "source": [
    "model.summary()"
   ]
  },
  {
   "cell_type": "code",
   "execution_count": 26,
   "metadata": {},
   "outputs": [],
   "source": [
    "model.compile(loss='binary_crossentropy', optimizer=optimizers.RMSprop(lr=1e-4),metrics=['acc'])"
   ]
  },
  {
   "cell_type": "code",
   "execution_count": 27,
   "metadata": {},
   "outputs": [],
   "source": [
    "train_datagen = ImageDataGenerator(rescale=1./255, rotation_range=40,\n",
    "                                  width_shift_range=0.2,\n",
    "                                  height_shift_range=0.2,\n",
    "                                  shear_range=0.2,\n",
    "                                  zoom_range=0.2,\n",
    "                                  horizontal_flip=True,\n",
    "                                  fill_mode='nearest')\n",
    "test_datagen = ImageDataGenerator(rescale = 1./255, rotation_range=40,\n",
    "                                  width_shift_range=0.2,\n",
    "                                  height_shift_range=0.2,\n",
    "                                  shear_range=0.2,\n",
    "                                  zoom_range=0.2,\n",
    "                                  horizontal_flip=True,\n",
    "                                  fill_mode='nearest')"
   ]
  },
  {
   "cell_type": "code",
   "execution_count": 30,
   "metadata": {},
   "outputs": [
    {
     "name": "stdout",
     "output_type": "stream",
     "text": [
      "Found 1798 images belonging to 2 classes.\n"
     ]
    }
   ],
   "source": [
    "train_generator = train_datagen.flow_from_directory(train_path, target_size=(150,150),\n",
    "                                                   batch_size=20,\n",
    "                                                   class_mode='binary')"
   ]
  },
  {
   "cell_type": "code",
   "execution_count": 31,
   "metadata": {},
   "outputs": [
    {
     "name": "stdout",
     "output_type": "stream",
     "text": [
      "Found 772 images belonging to 2 classes.\n"
     ]
    }
   ],
   "source": [
    "validation_generator = test_datagen.flow_from_directory(validation_path, target_size=(150,150),\n",
    "                                                   batch_size=20,\n",
    "                                                   class_mode='binary')"
   ]
  },
  {
   "cell_type": "code",
   "execution_count": 32,
   "metadata": {},
   "outputs": [
    {
     "name": "stdout",
     "output_type": "stream",
     "text": [
      "Data batch shape: (20, 150, 150, 3)\n",
      "labels batch shape: (20,)\n"
     ]
    }
   ],
   "source": [
    "for data_batch,labels_batch in train_generator:\n",
    "    print('Data batch shape:', data_batch.shape)\n",
    "    print('labels batch shape:', labels_batch.shape)\n",
    "    break"
   ]
  },
  {
   "cell_type": "code",
   "execution_count": 33,
   "metadata": {},
   "outputs": [
    {
     "name": "stderr",
     "output_type": "stream",
     "text": [
      "C:\\ProgramData\\Anaconda3\\lib\\site-packages\\tensorflow\\python\\keras\\engine\\training.py:1844: UserWarning: `Model.fit_generator` is deprecated and will be removed in a future version. Please use `Model.fit`, which supports generators.\n",
      "  warnings.warn('`Model.fit_generator` is deprecated and '\n"
     ]
    },
    {
     "name": "stdout",
     "output_type": "stream",
     "text": [
      "Epoch 1/30\n",
      "90/90 [==============================] - 95s 1s/step - loss: 0.6928 - acc: 0.5459 - val_loss: 0.6700 - val_acc: 0.5972\n",
      "Epoch 2/30\n",
      "90/90 [==============================] - 94s 1s/step - loss: 0.6814 - acc: 0.5617 - val_loss: 0.6587 - val_acc: 0.6218\n",
      "Epoch 3/30\n",
      "90/90 [==============================] - 82s 911ms/step - loss: 0.6546 - acc: 0.6395 - val_loss: 0.6473 - val_acc: 0.6049\n",
      "Epoch 4/30\n",
      "90/90 [==============================] - 85s 948ms/step - loss: 0.6508 - acc: 0.6195 - val_loss: 0.6215 - val_acc: 0.6244\n",
      "Epoch 5/30\n",
      "90/90 [==============================] - 109s 1s/step - loss: 0.6487 - acc: 0.6201 - val_loss: 0.6810 - val_acc: 0.5946\n",
      "Epoch 6/30\n",
      "90/90 [==============================] - 99s 1s/step - loss: 0.6102 - acc: 0.6695 - val_loss: 0.6548 - val_acc: 0.6554\n",
      "Epoch 7/30\n",
      "90/90 [==============================] - 91s 1s/step - loss: 0.6041 - acc: 0.6857 - val_loss: 0.5526 - val_acc: 0.7435\n",
      "Epoch 8/30\n",
      "90/90 [==============================] - 94s 1s/step - loss: 0.5917 - acc: 0.7025 - val_loss: 0.5588 - val_acc: 0.7319\n",
      "Epoch 9/30\n",
      "90/90 [==============================] - 87s 966ms/step - loss: 0.5881 - acc: 0.7044 - val_loss: 0.5397 - val_acc: 0.7383\n",
      "Epoch 10/30\n",
      "90/90 [==============================] - 89s 989ms/step - loss: 0.5377 - acc: 0.7418 - val_loss: 0.5427 - val_acc: 0.7396\n",
      "Epoch 11/30\n",
      "90/90 [==============================] - 90s 997ms/step - loss: 0.5322 - acc: 0.7407 - val_loss: 0.4898 - val_acc: 0.7850\n",
      "Epoch 12/30\n",
      "90/90 [==============================] - 87s 969ms/step - loss: 0.4863 - acc: 0.7816 - val_loss: 0.4951 - val_acc: 0.7642\n",
      "Epoch 13/30\n",
      "90/90 [==============================] - 89s 994ms/step - loss: 0.4954 - acc: 0.7462 - val_loss: 0.4998 - val_acc: 0.7591\n",
      "Epoch 14/30\n",
      "90/90 [==============================] - 185s 2s/step - loss: 0.4895 - acc: 0.7534 - val_loss: 0.4296 - val_acc: 0.7927\n",
      "Epoch 15/30\n",
      "90/90 [==============================] - 149s 2s/step - loss: 0.4325 - acc: 0.7860 - val_loss: 0.4931 - val_acc: 0.7617\n",
      "Epoch 16/30\n",
      "90/90 [==============================] - 126s 1s/step - loss: 0.4317 - acc: 0.7963 - val_loss: 0.4056 - val_acc: 0.8005\n",
      "Epoch 17/30\n",
      "90/90 [==============================] - 126s 1s/step - loss: 0.4200 - acc: 0.7989 - val_loss: 0.4292 - val_acc: 0.8070\n",
      "Epoch 18/30\n",
      "90/90 [==============================] - 131s 1s/step - loss: 0.3958 - acc: 0.7993 - val_loss: 0.4159 - val_acc: 0.8148\n",
      "Epoch 19/30\n",
      "90/90 [==============================] - 126s 1s/step - loss: 0.3923 - acc: 0.8130 - val_loss: 0.3899 - val_acc: 0.8122\n",
      "Epoch 20/30\n",
      "90/90 [==============================] - 119s 1s/step - loss: 0.4038 - acc: 0.8027 - val_loss: 0.4204 - val_acc: 0.8096\n",
      "Epoch 21/30\n",
      "90/90 [==============================] - 132s 1s/step - loss: 0.3853 - acc: 0.8012 - val_loss: 0.4155 - val_acc: 0.8109\n",
      "Epoch 22/30\n",
      "90/90 [==============================] - 126s 1s/step - loss: 0.3799 - acc: 0.8228 - val_loss: 0.4382 - val_acc: 0.7992\n",
      "Epoch 23/30\n",
      "90/90 [==============================] - 122s 1s/step - loss: 0.3514 - acc: 0.8307 - val_loss: 0.3887 - val_acc: 0.8187\n",
      "Epoch 24/30\n",
      "90/90 [==============================] - 122s 1s/step - loss: 0.3508 - acc: 0.8245 - val_loss: 0.6988 - val_acc: 0.6956\n",
      "Epoch 25/30\n",
      "90/90 [==============================] - 121s 1s/step - loss: 0.3704 - acc: 0.8161 - val_loss: 0.3727 - val_acc: 0.8187\n",
      "Epoch 26/30\n",
      "90/90 [==============================] - 116s 1s/step - loss: 0.3518 - acc: 0.8294 - val_loss: 0.3774 - val_acc: 0.8368\n",
      "Epoch 27/30\n",
      "90/90 [==============================] - 80s 893ms/step - loss: 0.3406 - acc: 0.8437 - val_loss: 0.4314 - val_acc: 0.7863\n",
      "Epoch 28/30\n",
      "90/90 [==============================] - 88s 979ms/step - loss: 0.3559 - acc: 0.8344 - val_loss: 0.3509 - val_acc: 0.8238\n",
      "Epoch 29/30\n",
      "90/90 [==============================] - 87s 963ms/step - loss: 0.3478 - acc: 0.8412 - val_loss: 0.3419 - val_acc: 0.8497\n",
      "Epoch 30/30\n",
      "90/90 [==============================] - 84s 931ms/step - loss: 0.3353 - acc: 0.8429 - val_loss: 0.3721 - val_acc: 0.8303\n"
     ]
    }
   ],
   "source": [
    "history = model.fit_generator(train_generator,\n",
    "                             steps_per_epoch=90,\n",
    "                             epochs=30,\n",
    "                             validation_data=validation_generator,\n",
    "                             validation_steps=39)"
   ]
  },
  {
   "cell_type": "code",
   "execution_count": 34,
   "metadata": {},
   "outputs": [],
   "source": [
    "acc = history.history['acc']\n",
    "val_acc = history.history['val_acc']\n",
    "loss = history.history['loss']\n",
    "val_loss = history.history['val_loss']"
   ]
  },
  {
   "cell_type": "code",
   "execution_count": 35,
   "metadata": {},
   "outputs": [],
   "source": [
    "epochs = range(1,len(acc) + 1)"
   ]
  },
  {
   "cell_type": "code",
   "execution_count": 36,
   "metadata": {},
   "outputs": [
    {
     "data": {
      "text/plain": [
       "<matplotlib.legend.Legend at 0x24d8c511d88>"
      ]
     },
     "execution_count": 36,
     "metadata": {},
     "output_type": "execute_result"
    },
    {
     "data": {
      "image/png": "[encoded data removed]",
      "text/plain": [
       "<Figure size 432x288 with 1 Axes>"
      ]
     },
     "metadata": {
      "needs_background": "light"
     },
     "output_type": "display_data"
    }
   ],
   "source": [
    "plt.plot(epochs,acc,'bo',label='Trainning acc')\n",
    "plt.plot(epochs,val_acc,'b',label='Validation acc')\n",
    "plt.title('Trainning and validation accuracy')\n",
    "plt.legend()"
   ]
  },
  {
   "cell_type": "code",
   "execution_count": 37,
   "metadata": {},
   "outputs": [
    {
     "data": {
      "text/plain": [
       "<matplotlib.legend.Legend at 0x24d8d7bfd48>"
      ]
     },
     "execution_count": 37,
     "metadata": {},
     "output_type": "execute_result"
    },
    {
     "data": {
      "image/png": "[encoded data removed]",
      "text/plain": [
       "<Figure size 432x288 with 1 Axes>"
      ]
     },
     "metadata": {
      "needs_background": "light"
     },
     "output_type": "display_data"
    }
   ],
   "source": [
    "plt.figure()\n",
    "plt.plot(epochs,loss, 'bo',label='Trainning loss')\n",
    "plt.plot(epochs,val_loss, 'b', label='Validation loss')\n",
    "plt.title('Trainning and validation loss')\n",
    "plt.legend()"
   ]
  },
  {
   "cell_type": "code",
   "execution_count": null,
   "metadata": {},
   "outputs": [],
   "source": []
  },
  {
   "cell_type": "code",
   "execution_count": null,
   "metadata": {},
   "outputs": [],
   "source": []
  }
 ],
 "metadata": {
  "kernelspec": {
   "display_name": "Python 3",
   "language": "python",
   "name": "python3"
  },
  "language_info": {
   "codemirror_mode": {
    "name": "ipython",
    "version": 3
   },
   "file_extension": ".py",
   "mimetype": "text/x-python",
   "name": "python",
   "nbconvert_exporter": "python",
   "pygments_lexer": "ipython3",
   "version": "3.7.6"
  }
 },
 "nbformat": 4,
 "nbformat_minor": 4
}
